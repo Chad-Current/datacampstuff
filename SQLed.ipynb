{
 "cells": [
  {
   "cell_type": "markdown",
   "metadata": {},
   "source": [
    "# SQL Study and Review"
   ]
  },
  {
   "cell_type": "markdown",
   "metadata": {},
   "source": [
    "SELECT * \n",
    "SELECT COUNT(*)\n",
    "SELECT DISTINCT \n",
    "SELECT COUNT(DISTINCT Example)\n",
    "FROM Films\n",
    "WHERE \n",
    "WHERE IN \n",
    "IS NULL\n",
    "IS NOT NULL"
   ]
  },
  {
   "cell_type": "markdown",
   "metadata": {},
   "source": [
    "Like and NOT Like \n",
    "WHERE name LIKE 'Data%';  the % is the wildcard regex for zero,one or many characters\n",
    "WHERE name LIKE 'DataC_mp'; the _ is the wildcard regex for single character query matches\n",
    "WHERE name LIKE '_D%'; this format finds all the second characters with D and any characters trailing included\n",
    "\n"
   ]
  },
  {
   "cell_type": "markdown",
   "metadata": {},
   "source": [
    "### Aggregate Functions"
   ]
  },
  {
   "cell_type": "markdown",
   "metadata": {},
   "source": [
    "SELECT AVG(example)\n",
    "FROM example_table\n",
    "\n",
    "SELECT MAX(example)\n",
    "FROM example_table\n",
    "\n",
    "SELECT MIN(example)\n",
    "FROM example_table\n",
    "\n",
    "SELECT SUM(budget)\n",
    "FROM Films\n",
    "WHERE release_year >= 2010;\n",
    "\n",
    "SELECT (10/3);    Arithmetic can also be done, type sensitive\n"
   ]
  },
  {
   "cell_type": "markdown",
   "metadata": {},
   "source": [
    "### Aliasing"
   ]
  },
  {
   "cell_type": "markdown",
   "metadata": {},
   "source": [
    "AS\n",
    "SELECT MAX(budget) AS max_budget\n",
    "       MAX(duraction) AS max_duration\n",
    "FROM films;\n",
    "\n",
    "SELECT gross - budget as net_profit\n",
    "FROM films;\n",
    "\n",
    "SELECT (MIN(release_year) - MAX(release_year)) / 10.0 AS number_of_decades\n",
    "\n"
   ]
  },
  {
   "cell_type": "markdown",
   "metadata": {},
   "source": [
    "### Sorting, Grouping and Joining"
   ]
  },
  {
   "cell_type": "markdown",
   "metadata": {},
   "source": [
    "ORDER BY example; Default ordered ascending\n",
    "ORDER BY example DESC; Decending order"
   ]
  },
  {
   "cell_type": "markdown",
   "metadata": {},
   "source": [
    "GROUP BY is used with aggregate functions like COUNT() or MAX()\n",
    "GROUP BY always goes after the FROM clause\n",
    "Allows you to group a result by one or more columns\n",
    "\n",
    "SELECT sex, COUNT(*)\n",
    "FROM employess \n",
    "GROUP BY sex\n",
    "ORDER BY count DESC;\n",
    "\n",
    "\n"
   ]
  },
  {
   "cell_type": "markdown",
   "metadata": {},
   "source": [
    "### Having"
   ]
  },
  {
   "cell_type": "markdown",
   "metadata": {},
   "source": [
    "Having is used to filter results of an aggregrate function\n",
    "\n",
    "SELECT release_year\n",
    "FROM films\n",
    "GROUP BY release_year\n",
    "HAVING COUNT(title) > 10;\n",
    "\n",
    "SELECT release_year, AVG(budget) AS avg_budget, AVG(gross) AS avg_gross\n",
    "FROM films\n",
    "WHERE release_year > 1990\n",
    "GROUP BY release_year\n",
    "HAVING AVG(budget) > 60000000\n",
    "ORDER BY avg_gross DESC"
   ]
  }
 ],
 "metadata": {
  "kernelspec": {
   "display_name": "Python 3",
   "language": "python",
   "name": "python3"
  },
  "language_info": {
   "codemirror_mode": {
    "name": "ipython",
    "version": 3
   },
   "file_extension": ".py",
   "mimetype": "text/x-python",
   "name": "python",
   "nbconvert_exporter": "python",
   "pygments_lexer": "ipython3",
   "version": "3.6.4"
  }
 },
 "nbformat": 4,
 "nbformat_minor": 2
}
