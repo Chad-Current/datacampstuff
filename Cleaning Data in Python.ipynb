{
 "cells": [
  {
   "cell_type": "markdown",
   "metadata": {},
   "source": [
    "### Loading and viewing data"
   ]
  },
  {
   "cell_type": "code",
   "execution_count": 4,
   "metadata": {},
   "outputs": [],
   "source": [
    "import pandas as pd\n"
   ]
  },
  {
   "cell_type": "code",
   "execution_count": null,
   "metadata": {},
   "outputs": [],
   "source": [
    "df = pd.read_excel('whatever.xlsx')\n",
    "print(df.head())\n",
    "print(df.tail())\n",
    "print(df.columns) # <--- these are attributes not methods\n",
    "print(df.shape)   # <---\n",
    "print(df.info())  # Provides data about the DataFrame such as rows, columns, the data type stored in each etc.\n",
    "\n"
   ]
  },
  {
   "cell_type": "markdown",
   "metadata": {},
   "source": [
    "## Exploratory Analysis"
   ]
  },
  {
   "cell_type": "code",
   "execution_count": null,
   "metadata": {},
   "outputs": [],
   "source": [
    "df['key= column name'].value_counts(dropna=False)  # Selecting a columns and showing the values , dropna=False includes all values that are null or None\n",
    "\n",
    "df['column name'].value_counts(dropna=False).head()\n",
    "\n",
    "df.describe() # quickly calculates summary statistics with the describe method\n"
   ]
  },
  {
   "cell_type": "markdown",
   "metadata": {},
   "source": [
    "### Visual exploratory data analysis\n"
   ]
  },
  {
   "cell_type": "markdown",
   "metadata": {},
   "source": [
    "Data visualizaiotn is a great way to spot outliers and obvious errors, its more than just looking for patterns\n",
    "plan data cleaning steps\n",
    "Not all outliers are bad data\n",
    "\n",
    "Bar plots for discrete data counts\n",
    "Histograms for continous data counts\n",
    "Look at frequencies\n",
    "\n"
   ]
  },
  {
   "cell_type": "markdown",
   "metadata": {},
   "source": [
    "### Boxplot"
   ]
  },
  {
   "cell_type": "code",
   "execution_count": null,
   "metadata": {},
   "outputs": [],
   "source": [
    "df.boxplot(column='whatevercolumn',by='groupingstuff',rot=90)\n",
    "import matplotlib.pyplot as plt\n",
    "plt.show()\n",
    "\n"
   ]
  },
  {
   "cell_type": "markdown",
   "metadata": {},
   "source": [
    "### Hist plot"
   ]
  },
  {
   "cell_type": "code",
   "execution_count": null,
   "metadata": {},
   "outputs": [],
   "source": [
    "df['key column'].plot(kind='hist',rot=70,logx=False,logy=True)\n",
    "plt.show()"
   ]
  },
  {
   "cell_type": "markdown",
   "metadata": {},
   "source": [
    "### Scatterplot"
   ]
  },
  {
   "cell_type": "code",
   "execution_count": null,
   "metadata": {},
   "outputs": [],
   "source": [
    "df.plot(kind='scatter',x='x axis stuffhere',y='y axis stuff here',rot=70)\n",
    "plt.show()"
   ]
  },
  {
   "cell_type": "markdown",
   "metadata": {},
   "source": [
    "### Tidy Data"
   ]
  },
  {
   "cell_type": "code",
   "execution_count": null,
   "metadata": {},
   "outputs": [],
   "source": [
    "''' \"Tidy Data\" paper by Hadley Wickham, PHD    read over this paperwork\n",
    "-- Columns represent seperate varibles\n",
    "-- Rows represent individual observations\n",
    "-- Each observational units form tables\n",
    "-- Better for reporting vs. better for analysis '''\n",
    "\n",
    "pd.melt(frame=df,id_vars='name',value_vars=['treatment a','treatment b'])  # the value_vars is used to specify which columns you \n",
    "                                                                           # you want to melt, if not specified it will use all \n",
    "                                                                           # columns not specified in the id_vars parameter\n",
    "                                                                           \n",
    "pd.emlt(frame=df,id_vars='name',value_vars=['treatment a','treatment b'],var_name='treatment',value_name='result')\n",
    "                                                                         # var_name renames id_vars name\n",
    "                                                                         # value_name names value_var names"
   ]
  },
  {
   "cell_type": "markdown",
   "metadata": {},
   "source": [
    "### Pivoting Data"
   ]
  },
  {
   "cell_type": "markdown",
   "metadata": {},
   "source": [
    "Opposite for melting\n",
    "In melting we turn columns into rows\n",
    "Pivotinfg turns unique values into seperate columns\n",
    "\n",
    "tidy = untidy.pivot(index='date',columns='element',values='value')   # index tells pivot which columns we want to fix in pivot\n",
    "                                                                     # column to pivot into new columns\n",
    "                                                                     # values to be used to fill in the new columns created from\n",
    "                                                                     # the pivot\n",
    "                                                                     \n",
    "tidy = untidy.pivot_table(values='value',index='date',columns='element',aggfunc=np.mean)\n"
   ]
  }
 ],
 "metadata": {
  "kernelspec": {
   "display_name": "Python 3",
   "language": "python",
   "name": "python3"
  },
  "language_info": {
   "codemirror_mode": {
    "name": "ipython",
    "version": 3
   },
   "file_extension": ".py",
   "mimetype": "text/x-python",
   "name": "python",
   "nbconvert_exporter": "python",
   "pygments_lexer": "ipython3",
   "version": "3.6.4"
  }
 },
 "nbformat": 4,
 "nbformat_minor": 2
}
