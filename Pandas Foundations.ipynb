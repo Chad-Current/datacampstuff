{
 "cells": [
  {
   "cell_type": "markdown",
   "metadata": {},
   "source": [
    "## Data ingestion & inspection"
   ]
  },
  {
   "cell_type": "markdown",
   "metadata": {},
   "source": [
    "### Building DataFrames from Scratch\n"
   ]
  },
  {
   "cell_type": "code",
   "execution_count": 69,
   "metadata": {},
   "outputs": [],
   "source": [
    "import numpy as np\n",
    "import pandas as pd\n"
   ]
  },
  {
   "cell_type": "code",
   "execution_count": 70,
   "metadata": {},
   "outputs": [],
   "source": [
    "# Keys of the dictionary are used as column labels\n",
    "data = {'Weekday':['Sunday','Monday','Tuesday','Wednesday'],'City':['Chicago','New York','Los Angeles','Phoenix']}\n",
    "indexing = ['S','M','T','W']\n",
    "users = pd.DataFrame(data,index=indexing)"
   ]
  },
  {
   "cell_type": "code",
   "execution_count": 71,
   "metadata": {},
   "outputs": [
    {
     "name": "stdout",
     "output_type": "stream",
     "text": [
      "     Weekday         City\n",
      "S     Sunday      Chicago\n",
      "M     Monday     New York\n",
      "T    Tuesday  Los Angeles\n",
      "W  Wednesday      Phoenix\n"
     ]
    }
   ],
   "source": [
    "print(users)"
   ]
  },
  {
   "cell_type": "code",
   "execution_count": 72,
   "metadata": {},
   "outputs": [
    {
     "name": "stdout",
     "output_type": "stream",
     "text": [
      "<class 'pandas.core.frame.DataFrame'>\n",
      "RangeIndex: 6 entries, 0 to 5\n",
      "Data columns (total 2 columns):\n",
      "Label for column one        6 non-null object\n",
      "    Label for column two    6 non-null object\n",
      "dtypes: object(2)\n",
      "memory usage: 88.0+ bytes\n",
      "  Label for column one        Label for column two\n",
      "0                       b                        k\n",
      "1                       c                        l\n",
      "2                       d                        m\n",
      "3                       e                        n\n",
      "4                       f                        o\n",
      "5                       g                        p\n",
      "  New One New Two\n",
      "0       b       k\n",
      "1       c       l\n",
      "2       d       m\n",
      "3       e       n\n",
      "4       f       o\n",
      "5       g       p\n"
     ]
    }
   ],
   "source": [
    "cities = [chr(x)for x in range(98,104)]\n",
    "sign = [chr(x)for x in range(107,113)]\n",
    "list_label = ['Label for column one   ','    Label for column two']\n",
    "list_cols = [cities,sign]\n",
    "zipped = list(zip(list_label,list_cols))\n",
    "data = dict(zipped)\n",
    "users = pd.DataFrame(data)\n",
    "users.info()\n",
    "print(users)\n",
    "\n",
    "list_labels = ['New One','New Two']    # <--- \n",
    "users.columns = list_labels            # Using a list to assign to the columns attribute of the DataFrame\n",
    "print(users)"
   ]
  },
  {
   "cell_type": "markdown",
   "metadata": {},
   "source": [
    "## Broadcating"
   ]
  },
  {
   "cell_type": "code",
   "execution_count": 73,
   "metadata": {},
   "outputs": [
    {
     "name": "stdout",
     "output_type": "stream",
     "text": [
      "  New One New Two  fees\n",
      "0       b       k     0\n",
      "1       c       l     0\n",
      "2       d       m     0\n",
      "3       e       n     0\n",
      "4       f       o     0\n",
      "5       g       p     0\n"
     ]
    }
   ],
   "source": [
    "users['fees'] = 0 # Broadcasts to entire column, used to make new columns on the fly\n",
    "print(users)"
   ]
  },
  {
   "cell_type": "code",
   "execution_count": 74,
   "metadata": {},
   "outputs": [
    {
     "name": "stdout",
     "output_type": "stream",
     "text": [
      "   heights sex\n",
      "0     67.0   M\n",
      "1     68.1   M\n",
      "2     69.1   M\n",
      "3     65.4   M\n",
      "4     55.8   M\n"
     ]
    }
   ],
   "source": [
    "heights = [67.00,68.1,69.1,65.4,55.8]\n",
    "data = {'heights':heights,'sex':'M'}  # Broadcast the sex:'M' here \n",
    "results = pd.DataFrame(data)\n",
    "print(results)"
   ]
  },
  {
   "cell_type": "markdown",
   "metadata": {},
   "source": [
    "### Importing and Exporting Data\n",
    "\n",
    "CSV Files do not contain column headers\n",
    "\n",
    "pd.to_csv()  for exporting files that\n",
    "pd.to_excel()"
   ]
  },
  {
   "cell_type": "code",
   "execution_count": null,
   "metadata": {},
   "outputs": [],
   "source": []
  }
 ],
 "metadata": {
  "kernelspec": {
   "display_name": "Python 3",
   "language": "python",
   "name": "python3"
  },
  "language_info": {
   "codemirror_mode": {
    "name": "ipython",
    "version": 3
   },
   "file_extension": ".py",
   "mimetype": "text/x-python",
   "name": "python",
   "nbconvert_exporter": "python",
   "pygments_lexer": "ipython3",
   "version": "3.6.4"
  }
 },
 "nbformat": 4,
 "nbformat_minor": 2
}
