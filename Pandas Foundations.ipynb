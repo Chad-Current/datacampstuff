{
 "cells": [
  {
   "cell_type": "markdown",
   "metadata": {},
   "source": [
    "## Data ingestion & inspection"
   ]
  },
  {
   "cell_type": "markdown",
   "metadata": {},
   "source": [
    "### Building DataFrames from Scratch\n"
   ]
  },
  {
   "cell_type": "code",
   "execution_count": 5,
   "metadata": {},
   "outputs": [],
   "source": [
    "import numpy as np\n",
    "import pandas as pd\n"
   ]
  },
  {
   "cell_type": "code",
   "execution_count": 6,
   "metadata": {},
   "outputs": [],
   "source": [
    "# Keys of the dictionary are used as column labels\n",
    "data = {'Weekday':['Sunday','Monday','Tuesday','Wednesday'],'City':['Chicago','New York','Los Angeles','Phoenix']}\n",
    "indexing = ['S','M','T','W']\n",
    "users = pd.DataFrame(data,index=indexing)"
   ]
  },
  {
   "cell_type": "code",
   "execution_count": 7,
   "metadata": {},
   "outputs": [
    {
     "name": "stdout",
     "output_type": "stream",
     "text": [
      "     Weekday         City\n",
      "S     Sunday      Chicago\n",
      "M     Monday     New York\n",
      "T    Tuesday  Los Angeles\n",
      "W  Wednesday      Phoenix\n"
     ]
    }
   ],
   "source": [
    "print(users)"
   ]
  },
  {
   "cell_type": "code",
   "execution_count": 11,
   "metadata": {},
   "outputs": [
    {
     "name": "stdout",
     "output_type": "stream",
     "text": [
      "[['b', 'c', 'd', 'e', 'f', 'g'], ['k', 'l', 'm', 'n', 'o', 'p']]\n",
      "[('Column One', ['b', 'c', 'd', 'e', 'f', 'g']), ('Column Two', ['k', 'l', 'm', 'n', 'o', 'p'])]\n",
      "{'Column One': ['b', 'c', 'd', 'e', 'f', 'g'], 'Column Two': ['k', 'l', 'm', 'n', 'o', 'p']}\n",
      "<class 'pandas.core.frame.DataFrame'>\n",
      "RangeIndex: 6 entries, 0 to 5\n",
      "Data columns (total 2 columns):\n",
      "Column One    6 non-null object\n",
      "Column Two    6 non-null object\n",
      "dtypes: object(2)\n",
      "memory usage: 88.0+ bytes\n",
      "\n",
      "\n",
      "  Column One Column Two\n",
      "0          b          k\n",
      "1          c          l\n",
      "2          d          m\n",
      "3          e          n\n",
      "4          f          o\n",
      "5          g          p\n",
      "\n",
      "\n",
      "  New One New Two\n",
      "0       b       k\n",
      "1       c       l\n",
      "2       d       m\n",
      "3       e       n\n",
      "4       f       o\n",
      "5       g       p\n"
     ]
    }
   ],
   "source": [
    "cities = [chr(x)for x in range(98,104)]\n",
    "sign = [chr(x)for x in range(107,113)]\n",
    "list_label_for_columns = ['Column One','Column Two']\n",
    "data_for_columns = [cities,sign]\n",
    "print(data_for_columns)\n",
    "zipped = list(zip(list_label_for_columns,data_for_columns))\n",
    "print(zipped)\n",
    "data = dict(zipped)\n",
    "print(data)\n",
    "users = pd.DataFrame(data)\n",
    "users.info()\n",
    "print('\\n')\n",
    "print(users)\n",
    "list_labels = ['New One','New Two']    # <--- \n",
    "users.columns = list_labels            # Using a list to assign to the columns attribute of the DataFrame\n",
    "print('\\n')\n",
    "print(users)\n",
    "\n",
    "# data = pd.read_csv('csv_name.csv',index_col = 'date', parse_dates = True) \n",
    "# this sets the index to the name 'date' and puts the date stamp in the columns\n"
   ]
  },
  {
   "cell_type": "markdown",
   "metadata": {},
   "source": [
    "## Broadcating"
   ]
  },
  {
   "cell_type": "code",
   "execution_count": 11,
   "metadata": {},
   "outputs": [
    {
     "name": "stdout",
     "output_type": "stream",
     "text": [
      "  New One New Two  fees\n",
      "0       b       k     0\n",
      "1       c       l     0\n",
      "2       d       m     0\n",
      "3       e       n     0\n",
      "4       f       o     0\n",
      "5       g       p     0\n"
     ]
    }
   ],
   "source": [
    "users['fees'] = 0 # Broadcasts to entire column, used to make new columns on the fly\n",
    "print(users)"
   ]
  },
  {
   "cell_type": "code",
   "execution_count": 12,
   "metadata": {},
   "outputs": [
    {
     "name": "stdout",
     "output_type": "stream",
     "text": [
      "   heights sex\n",
      "0     67.0   M\n",
      "1     68.1   M\n",
      "2     69.1   M\n",
      "3     65.4   M\n",
      "4     55.8   M\n"
     ]
    }
   ],
   "source": [
    "heights = [67.00,68.1,69.1,65.4,55.8]\n",
    "data = {'heights':heights,'sex':'M'}  # Broadcast the sex:'M' here \n",
    "results = pd.DataFrame(data)\n",
    "print(results)"
   ]
  },
  {
   "cell_type": "markdown",
   "metadata": {},
   "source": [
    "### Importing and Exporting Data\n",
    "\n",
    "CSV Files do not contain column headers\n",
    "\n",
    "pd.to_csv()  for exporting files that\n",
    "pd.to_excel()"
   ]
  },
  {
   "cell_type": "markdown",
   "metadata": {},
   "source": [
    "### Ploting with pandas and pyplot"
   ]
  },
  {
   "cell_type": "markdown",
   "metadata": {},
   "source": [
    "df.plot(color='red')\n",
    "plt.title('Whatever you want the title to be')\n",
    "plt.xlabel(' x-axis label')\n",
    "plt.ylabel(' y-axis label')\n",
    "plt.show()\n"
   ]
  },
  {
   "cell_type": "markdown",
   "metadata": {},
   "source": [
    "# Exploratory data analysis"
   ]
  },
  {
   "cell_type": "markdown",
   "metadata": {},
   "source": [
    "df['column'].count() gives the value count of non-null data\n",
    "df[['column 1','column 2']].count() returns a series count computed of each column\n",
    "df['column'].mean()\n",
    "df['column'].std()\n",
    "df['column'].median()\n"
   ]
  },
  {
   "cell_type": "markdown",
   "metadata": {},
   "source": [
    "## Time series in Pandas"
   ]
  },
  {
   "cell_type": "markdown",
   "metadata": {},
   "source": [
    "### Using pandas to read datetime objects"
   ]
  },
  {
   "cell_type": "markdown",
   "metadata": {},
   "source": [
    "* read_csv() function\n",
    "    specify parse_dates=True   (ISO 8601 Format)  yyyy-mm-dd hh:mm:ss\n",
    "            index_col='Date'  used for indexing the rows with datetimes\n",
    "      ex.\n",
    "          df1 = pd.read_csv(filename,parse_dates=['Date'])\n",
    "          df2 = pd.read_csv(filename,index_col='Date',parse_dates = True)\n",
    "          \n",
    "* Pandas supports partial string selection ex. df.loc['Feb 25']\n",
    "              range selection with slicing     df.loc['Feb 25':'Feb 28']\n",
    "              \n",
    "* pd.to_datetime([2015-2-11 20:00','2015-2-11 21:00'....],format='%Y-%m-%d %H:%M)\n",
    " \n",
    "  df.reindex(evening_2_11)\n",
    "  filling missing data    df.reindex(evening_2_11,method=ffill') forward fill or method = 'bfill'\n",
    "  \n",
    "  \n",
    "  ex.   df2 = df1.reindex(df0.index)\n",
    "  "
   ]
  },
  {
   "cell_type": "markdown",
   "metadata": {},
   "source": [
    "### Resampling"
   ]
  },
  {
   "cell_type": "markdown",
   "metadata": {},
   "source": [
    "Statical methods over different time intervals    When using resampling, we use method chaining\n",
    "    mean(),sum(),count(),etc.\n",
    "    \n",
    "Downsampling\n",
    "    reduce datetime rows to slower frequency\n",
    "Upsampling\n",
    "    the opposite of downsampling\n",
    "   \n",
    "    daily_mean = sales.resample('D').mean()   Where 'D' means daily\n",
    "\n",
    "    sales.resample('D').sum().max().ffill()   Multiple chained\n",
    "\n",
    "    resampleing frequencies / can be prefixed with a numerical value i.e.  resample('2W') every two weeks\n",
    "        'min','T'  minute\n",
    "        'H'        hour\n",
    "        'D'        day\n",
    "        'B'        business day\n",
    "        'W'        week\n",
    "        'M'        month\n",
    "        'Q'        quarter\n",
    "        'A'        annual, year\n",
    "        \n",
    "    \n",
    "  "
   ]
  },
  {
   "cell_type": "markdown",
   "metadata": {},
   "source": [
    "### Manipulating pandas time series"
   ]
  },
  {
   "cell_type": "markdown",
   "metadata": {},
   "source": [
    "String methods\n",
    "sales['Company'].str.upper()\n",
    "\n",
    "Substring searching -- str.contains('ware') returns bool \n",
    "                       str.contains('ware').sum()\n",
    "\n",
    "Datetime methods  --   sales['Date'].dt.hour                        Can be chained\n",
    "             central = sales['Date'].dt.tz_localize('Us/Central')\n",
    "                       central.dt.tz_convert('US/Eastern')\n",
    "                       \n",
    "Interpolate missing data   -- population.resample('A').first().interpolate('linear')  returns linear values filled in the NAN\n",
    "\n",
    "VISUALIZING PANDAS TIME SERIES\n",
    "    Line types\n",
    "    Plot types\n",
    "    Subplots\n",
    "Plot style format string\n",
    "    color(k:black)\n",
    "    marker(.:dot)\n",
    "    line type(-:solid)\n",
    "    \n",
    "subplots=True can be used when looking a different columns that need seperation due to overlap or out of table range\n",
    "\n"
   ]
  }
 ],
 "metadata": {
  "kernelspec": {
   "display_name": "Python 3",
   "language": "python",
   "name": "python3"
  },
  "language_info": {
   "codemirror_mode": {
    "name": "ipython",
    "version": 3
   },
   "file_extension": ".py",
   "mimetype": "text/x-python",
   "name": "python",
   "nbconvert_exporter": "python",
   "pygments_lexer": "ipython3",
   "version": "3.6.4"
  }
 },
 "nbformat": 4,
 "nbformat_minor": 2
}
