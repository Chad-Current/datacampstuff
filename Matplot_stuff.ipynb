{
 "cells": [
  {
   "cell_type": "markdown",
   "metadata": {},
   "source": [
    "# Practing with Jupyter notebook"
   ]
  },
  {
   "cell_type": "code",
   "execution_count": 35,
   "metadata": {},
   "outputs": [
    {
     "name": "stdout",
     "output_type": "stream",
     "text": [
      "[27 35 47 33 26 47 32 30  4 15  7 27 41 39  2 34 14 49 18 14 18 14 40 30\n",
      " 20 13 36  4 49 36  4  1 40 40 29 39 40 26 26  3 42  2 34 11 30 34 42 17\n",
      " 43  6]\n",
      "[728 274 663  16 258 800 149 973 594 413 536 272 686 236 276 503 370 953\n",
      " 287 259  67  32 794 272 322  41  42 641  41 382 105 436 338  55 316 586\n",
      " 972 735 348 553 674 846 110 221  20 138 257  11 628 382]\n"
     ]
    }
   ],
   "source": [
    "import numpy as np\n",
    "%matplotlib inline\n",
    "import matplotlib.pyplot as plt\n",
    "import random as r\n",
    "times = [r.randint(1,50)for x in range(50)]\n",
    "days = [r.randint(1,1000)for y in range(50)]\n",
    "num_py_county = np.array(times)\n",
    "num_py_keys_issued = np.array(days)\n",
    "print(num_py_county)\n",
    "print(num_py_keys_issued)"
   ]
  },
  {
   "cell_type": "markdown",
   "metadata": {},
   "source": [
    "# Testing out jupyter notebook with matplotlib.pyplot "
   ]
  },
  {
   "cell_type": "code",
   "execution_count": 36,
   "metadata": {},
   "outputs": [
    {
     "data": {
      "text/plain": [
       "<matplotlib.collections.PathCollection at 0x557ddb0>"
      ]
     },
     "execution_count": 36,
     "metadata": {},
     "output_type": "execute_result"
    },
    {
     "data": {
      "image/png": "[encoded data removed]",
      "text/plain": [
       "<Figure size 432x288 with 1 Axes>"
      ]
     },
     "metadata": {},
     "output_type": "display_data"
    }
   ],
   "source": [
    "plt.xlabel('Counties')\n",
    "plt.ylabel('Keys Issued')\n",
    "plt.scatter(x=num_py_county,y=num_py_keys_issued,alpha=0.6)"
   ]
  }
 ],
 "metadata": {
  "kernelspec": {
   "display_name": "Python 3",
   "language": "python",
   "name": "python3"
  },
  "language_info": {
   "codemirror_mode": {
    "name": "ipython",
    "version": 3
   },
   "file_extension": ".py",
   "mimetype": "text/x-python",
   "name": "python",
   "nbconvert_exporter": "python",
   "pygments_lexer": "ipython3",
   "version": "3.6.4"
  }
 },
 "nbformat": 4,
 "nbformat_minor": 2
}
