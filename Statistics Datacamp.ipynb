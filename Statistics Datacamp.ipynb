{
 "cells": [
  {
   "cell_type": "markdown",
   "metadata": {},
   "source": [
    "## Conditional Probabilites, which are the direct inverse of statistic"
   ]
  },
  {
   "cell_type": "code",
   "execution_count": 15,
   "metadata": {},
   "outputs": [],
   "source": [
    "import numpy as np\n",
    "import pandas as pd\n",
    "import matplotlib.pyplot as plt\n",
    "import seaborn as sns\n",
    "sns.set()\n"
   ]
  },
  {
   "cell_type": "markdown",
   "metadata": {},
   "source": [
    "#### Variables can be either qualitative (aka categorical) or quantitative (aka, numeric)\n",
    "Qualitative variables take on values that are namnes or labels, i.e. red,green,blue,freshman,sophmore,junior\n",
    "Quantitative varibles are numeric, the represent a measurable quantity.\n",
    "#### Discrete Vs. Continuous Variables\n",
    "Quantitative variables can be futher classified as discrete or continuous. If the variable takes on a value betweeen a minimum and maximum it is called continuous variable; otherwise it is discrete\n",
    "#### Univariate data \n",
    "Working/Looking at only one variable\n",
    "#### Bivariate data\n",
    "The relationial examination between two variables\n",
    "#### Population Vs. Sample\n",
    "Population includes all of the elements from a set of data\n",
    "Sample consists one or more observations drawn from the population\n",
    "#### Parameter \n",
    "A parameter is the measurable characteristic of a population, i.e. mean or standard deviation\n",
    "#### Statistic \n",
    "A Statistic is the measurable characteristic of a sample\n",
    "#### Population and Sample Notation \n",
    "X̄ = x_bar is the sample notation\n",
    "μ = sigma is the population notation\n"
   ]
  },
  {
   "cell_type": "markdown",
   "metadata": {},
   "source": [
    "#### Simple Random Sampling\n",
    "Simple random sampling is a procedure for selecting sample elements from a population. Simple random sampling refers to sampling method that has the following\n",
    "-The population consists of N objects\n",
    "-The sample consists of n objects\n",
    "-All possible samples of n objects are equally likely to occur\n",
    "* Statistical analysis is not appropiate when non-random sampling methods are used\n"
   ]
  },
  {
   "cell_type": "code",
   "execution_count": null,
   "metadata": {},
   "outputs": [],
   "source": []
  }
 ],
 "metadata": {
  "kernelspec": {
   "display_name": "Python 3",
   "language": "python",
   "name": "python3"
  },
  "language_info": {
   "codemirror_mode": {
    "name": "ipython",
    "version": 3
   },
   "file_extension": ".py",
   "mimetype": "text/x-python",
   "name": "python",
   "nbconvert_exporter": "python",
   "pygments_lexer": "ipython3",
   "version": "3.7.0"
  }
 },
 "nbformat": 4,
 "nbformat_minor": 2
}
