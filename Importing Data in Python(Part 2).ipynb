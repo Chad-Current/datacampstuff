{
 "cells": [
  {
   "cell_type": "code",
   "execution_count": 6,
   "metadata": {},
   "outputs": [],
   "source": [
    "import numpy as np\n",
    "import pandas as pd\n",
    "from urllib.request import urlretrieve"
   ]
  },
  {
   "cell_type": "markdown",
   "metadata": {},
   "source": [
    "url = 'https://website.csv'\n",
    "urlretrieve(url,'writing_to_csv.csv' <--- Saving file locally)\n",
    "df = pd.read_csv('writing_to_csv.csv',sep = ';')\n",
    "print(df.head())"
   ]
  },
  {
   "cell_type": "markdown",
   "metadata": {},
   "source": [
    "Or you can direct load a file into a pandas dataframe\n",
    "\n",
    "url = 'https://webiste.csv'\n",
    "df = pd.read_csv(url,sep=';')\n"
   ]
  },
  {
   "cell_type": "markdown",
   "metadata": {},
   "source": [
    "### Importing non-flat files from the web"
   ]
  },
  {
   "cell_type": "markdown",
   "metadata": {},
   "source": [
    "xl = pd.read_excel(url,sheetname=None)\n",
    "print(xl.keys())\n",
    "print(xl['key here'].head())\n"
   ]
  },
  {
   "cell_type": "markdown",
   "metadata": {},
   "source": [
    "### HTTP requests to import file from the web"
   ]
  },
  {
   "cell_type": "markdown",
   "metadata": {},
   "source": [
    "from urllib.request import urlopen, Request\n",
    "url = 'https://whateveritis.com'\n",
    "request = Request(url)\n",
    "response = urlopen(Request) <--- returns http response object, which has an associated read method\n",
    "html = response.read() Applying read method to the response, which returns the html as a string\n",
    "response.close()\n",
    "\n",
    "\n",
    "import requests\n",
    "url = 'https://whateveritiscom'\n",
    "r = requests.get(url) package the request, then send the request, and catch the response with a single method\n",
    "text = r.text returns the html as a string\n"
   ]
  },
  {
   "cell_type": "markdown",
   "metadata": {},
   "source": [
    "### API's and JSON"
   ]
  },
  {
   "cell_type": "markdown",
   "metadata": {},
   "source": [
    "import json\n",
    "with open('snakes.json','r') as json_file:\n",
    "    json_data = json.load(json_file)\n"
   ]
  }
 ],
 "metadata": {
  "kernelspec": {
   "display_name": "Python 3",
   "language": "python",
   "name": "python3"
  },
  "language_info": {
   "codemirror_mode": {
    "name": "ipython",
    "version": 3
   },
   "file_extension": ".py",
   "mimetype": "text/x-python",
   "name": "python",
   "nbconvert_exporter": "python",
   "pygments_lexer": "ipython3",
   "version": "3.6.4"
  }
 },
 "nbformat": 4,
 "nbformat_minor": 2
}
